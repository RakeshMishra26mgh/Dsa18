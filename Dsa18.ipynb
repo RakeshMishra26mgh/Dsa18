{
  "nbformat": 4,
  "nbformat_minor": 0,
  "metadata": {
    "colab": {
      "provenance": [],
      "authorship_tag": "ABX9TyPZN0rVrefaU6X8WYzsk9ir",
      "include_colab_link": true
    },
    "kernelspec": {
      "name": "python3",
      "display_name": "Python 3"
    },
    "language_info": {
      "name": "python"
    }
  },
  "cells": [
    {
      "cell_type": "markdown",
      "metadata": {
        "id": "view-in-github",
        "colab_type": "text"
      },
      "source": [
        "<a href=\"https://colab.research.google.com/github/RakeshMishra26mgh/Dsa18/blob/main/Dsa18.ipynb\" target=\"_parent\"><img src=\"https://colab.research.google.com/assets/colab-badge.svg\" alt=\"Open In Colab\"/></a>"
      ]
    },
    {
      "cell_type": "markdown",
      "source": [
        "Answer 1:-"
      ],
      "metadata": {
        "id": "15I-zHlHfMx7"
      }
    },
    {
      "cell_type": "code",
      "source": [
        "def merge_intervals(intervals):\n",
        "  intervals.sort(key=lambda x: x[0])\n",
        "  merged = []\n",
        "  for interval in intervals:\n",
        "    if not merged or merged[-1][1] < interval[0]:\n",
        "      merged.append(interval)\n",
        "    else:\n",
        "      merged[-1][1] = max(merged[-1][1], interval[1])\n",
        "  return merged\n",
        "\n",
        "n = int(input(\"Enter the number of intervals: \"))\n",
        "intervals = []\n",
        "print(\"Enter the intervals as [start, end]: \")\n",
        "for i in range(n):\n",
        "  interval = input(f\"Interval {i+1}: \")\n",
        "  interval = list(map(int, interval.strip(\"[]\").split(\",\")))\n",
        "  if len(interval) != 2 or interval[0] > interval[1]:\n",
        "    print(\"Invalid input. Please enter a valid interval.\")\n",
        "    break\n",
        "  else:\n",
        "    intervals.append(interval)\n",
        "\n",
        "result = merge_intervals(intervals)\n",
        "print(f\"The merged intervals are {result}.\")\n"
      ],
      "metadata": {
        "id": "ajngVjV0fPka"
      },
      "execution_count": null,
      "outputs": []
    },
    {
      "cell_type": "markdown",
      "source": [
        "Answer 2:-"
      ],
      "metadata": {
        "id": "bb02hLUUffIi"
      }
    },
    {
      "cell_type": "code",
      "source": [
        "def sort_colors(nums):\n",
        "  low = mid = 0\n",
        "  high = len(nums) - 1\n",
        "  while mid <= high:\n",
        "    if nums[mid] == 0:\n",
        "      nums[low], nums[mid] = nums[mid], nums[low]\n",
        "      low += 1\n",
        "      mid += 1\n",
        "    elif nums[mid] == 1:\n",
        "      mid += 1\n",
        "    else:\n",
        "      nums[mid], nums[high] = nums[high], nums[mid]\n",
        "      high -= 1\n",
        "\n",
        "n = int(input(\"Enter the number of elements: \"))\n",
        "nums = []\n",
        "print(\"Enter the elements as 0, 1 or 2: \")\n",
        "for i in range(n):\n",
        "  num = int(input(f\"Element {i+1}: \"))\n",
        "  if num not in (0, 1, 2):\n",
        "    print(\"Invalid input. Please enter a valid element.\")\n",
        "    break\n",
        "  else:\n",
        "    nums.append(num)\n",
        "\n",
        "sort_colors(nums)\n",
        "print(f\"The sorted array is {nums}.\")\n"
      ],
      "metadata": {
        "id": "lk0GaKg0fhPR"
      },
      "execution_count": null,
      "outputs": []
    },
    {
      "cell_type": "markdown",
      "source": [
        "Answer 3:-"
      ],
      "metadata": {
        "id": "IdFf8GQRgimc"
      }
    },
    {
      "cell_type": "code",
      "source": [
        "def isBadVersion(version):\n",
        "  pass\n",
        "\n",
        "def firstBadVersion(n):\n",
        "  low = 1\n",
        "  high = n\n",
        "  while low < high:\n",
        "    mid = (low + high) // 2\n",
        "    if isBadVersion(mid):\n",
        "      high = mid\n",
        "    else:\n",
        "      low = mid + 1\n",
        "  return low\n",
        "\n",
        "n = int(input(\"Enter the number of versions: \"))\n",
        "bad = int(input(\"Enter the first bad version: \"))\n",
        "if bad < 1 or bad > n:\n",
        "  print(\"Invalid input. Please enter a valid version.\")\n",
        "else:\n",
        "  result = firstBadVersion(n-1)\n",
        "  print(f\"The first bad version is {result}.\")\n"
      ],
      "metadata": {
        "id": "baHAHgB_gk76"
      },
      "execution_count": null,
      "outputs": []
    },
    {
      "cell_type": "markdown",
      "source": [
        "Answer 4:-"
      ],
      "metadata": {
        "id": "vo8HOiDSoVUt"
      }
    },
    {
      "cell_type": "code",
      "source": [
        "def maximumGap(nums):\n",
        "    if len(nums) < 2:\n",
        "        return 0\n",
        "\n",
        "    min_num = min(nums)\n",
        "    max_num = max(nums)\n",
        "\n",
        "    if min_num == max_num:\n",
        "        return 0\n",
        "\n",
        "    gap = (max_num - min_num) // (len(nums) - 1) or 1\n",
        "\n",
        "    buckets = [[float('inf'), float('-inf')] for _ in range((max_num - min_num) // gap + 1)]\n",
        "\n",
        "    for num in nums:\n",
        "        bucket_index = (num - min_num) // gap\n",
        "        buckets[bucket_index][0] = min(buckets[bucket_index][0], num)\n",
        "        buckets[bucket_index][1] = max(buckets[bucket_index][1], num)\n",
        "\n",
        "    max_gap = 0\n",
        "    prev_bucket_max = min_num\n",
        "    for bucket in buckets:\n",
        "        if bucket[0] == float('inf'):\n",
        "            continue\n",
        "        max_gap = max(max_gap, bucket[0] - prev_bucket_max)\n",
        "        prev_bucket_max = bucket[1]\n",
        "\n",
        "    return max_gap\n",
        "\n",
        "nums = list(map(int, input(\"Enter the array of numbers separated by spaces only: \").split()))\n",
        "\n",
        "if not nums:\n",
        "    print(\"Invalid input. The array cannot be empty.\")\n",
        "else:\n",
        "    result = maximumGap(nums)\n",
        "    print(f\"The maximum gap is {result}.\")\n"
      ],
      "metadata": {
        "id": "rioXBX-Yo7Ab"
      },
      "execution_count": null,
      "outputs": []
    },
    {
      "cell_type": "markdown",
      "source": [
        "Answer 5:-"
      ],
      "metadata": {
        "id": "1mw3mQ5JqOVj"
      }
    },
    {
      "cell_type": "code",
      "source": [
        "def containsDuplicate(nums):\n",
        "    seen = set()\n",
        "    for num in nums:\n",
        "        if num in seen:\n",
        "            return True\n",
        "        else:\n",
        "            seen.add(num)\n",
        "    return False\n",
        "\n",
        "nums = list(map(int, input(\"Enter the array of numbers separated by spaces only : \").split()))\n",
        "\n",
        "if not nums:\n",
        "    print(\"Invalid input. The array cannot be empty.\")\n",
        "else:\n",
        "    result = containsDuplicate(nums)\n",
        "    print(f\"The array contains duplicate: {result}.\")\n"
      ],
      "metadata": {
        "id": "gPsdPKw4qT36"
      },
      "execution_count": null,
      "outputs": []
    },
    {
      "cell_type": "markdown",
      "source": [
        "Answer 6:-"
      ],
      "metadata": {
        "id": "CArL2msHr7xM"
      }
    },
    {
      "cell_type": "code",
      "source": [
        "def findMinArrowShots(points):\n",
        "    if not points:\n",
        "        return 0\n",
        "\n",
        "    points.sort(key=lambda x: x[1])\n",
        "\n",
        "    arrows = 1\n",
        "    end = points[0][1]\n",
        "\n",
        "    for i in range(1, len(points)):\n",
        "        if points[i][0] > end:\n",
        "            arrows += 1\n",
        "            end = points[i][1]\n",
        "\n",
        "    return arrows\n",
        "\n",
        "points = []\n",
        "n = int(input(\"Enter the number of balloons: \"))\n",
        "for i in range(n):\n",
        "    xstart, xend = map(int, input(f\"Enter the start and end of balloon {i+1} separated by spaces only: \").split())\n",
        "    points.append([xstart, xend])\n",
        "\n",
        "if not points:\n",
        "    print(\"Invalid input. The array cannot be empty.\")\n",
        "else:\n",
        "    result = findMinArrowShots(points)\n",
        "    print(f\"The minimum number of arrows is {result}.\")\n"
      ],
      "metadata": {
        "id": "RXHWTyAIr_Pq"
      },
      "execution_count": null,
      "outputs": []
    },
    {
      "cell_type": "markdown",
      "source": [
        "Answer 7:-"
      ],
      "metadata": {
        "id": "ziY-T35ntNNh"
      }
    },
    {
      "cell_type": "code",
      "source": [
        "def lengthOfLIS(nums):\n",
        "    if not nums:\n",
        "        return 0\n",
        "\n",
        "    dp = [1] * len(nums)\n",
        "    for i in range(len(nums)):\n",
        "        for j in range(i):\n",
        "            if nums[j] < nums[i]:\n",
        "                dp[i] = max(dp[i], dp[j] + 1)\n",
        "    return max(dp)\n",
        "\n",
        "nums = list(map(int, input(\"Enter the array of numbers separated by spaces only: \").split()))\n",
        "if not nums:\n",
        "    print(\"Invalid input. The array cannot be empty.\")\n",
        "else:\n",
        "    result = lengthOfLIS(nums)\n",
        "    print(f\"The length of the longest increasing subsequence is {result}.\")\n"
      ],
      "metadata": {
        "id": "2Ar12_30yEOP"
      },
      "execution_count": null,
      "outputs": []
    },
    {
      "cell_type": "markdown",
      "source": [
        "Answer 8:-"
      ],
      "metadata": {
        "id": "oV-9PKcCu1HA"
      }
    },
    {
      "cell_type": "code",
      "source": [
        "def find132pattern(nums):\n",
        "    if len(nums) < 3:\n",
        "        return False\n",
        "\n",
        "    stack = []\n",
        "\n",
        "    min_nums = [nums[0]]\n",
        "\n",
        "    for i in range(1, len(nums)):\n",
        "        min_nums.append(min(min_nums[-1], nums[i]))\n",
        "\n",
        "    for j in range(len(nums) - 1, -1, -1):\n",
        "        if nums[j] > min_nums[j]:\n",
        "            while stack and stack[-1] <= min_nums[j]:\n",
        "                stack.pop()\n",
        "\n",
        "            if stack and stack[-1] < nums[j]:\n",
        "                return True\n",
        "            else:\n",
        "                stack.append(nums[j])\n",
        "    return False\n",
        "\n",
        "nums = list(map(int, input(\"Enter the array of numbers separated by spaces only: \").split()))\n",
        "\n",
        "if not nums:\n",
        "    print(\"Invalid input. The array cannot be empty.\")\n",
        "else:\n",
        "    result = find132pattern(nums)\n",
        "    print(f\"The array contains a 132 pattern: {result}.\")\n"
      ],
      "metadata": {
        "id": "5aCUAZ2Sv0I-"
      },
      "execution_count": null,
      "outputs": []
    }
  ]
}